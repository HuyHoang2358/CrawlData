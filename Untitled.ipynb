{
 "cells": [
  {
   "cell_type": "code",
   "execution_count": 1,
   "id": "8ddf6944",
   "metadata": {},
   "outputs": [],
   "source": [
    "import aspose.threed as a3d"
   ]
  },
  {
   "cell_type": "code",
   "execution_count": 2,
   "id": "75d7ae44",
   "metadata": {},
   "outputs": [],
   "source": [
    "scene = a3d.Scene.from_file(\"data/591e6eff89deb4147c31d2ed.obj\")"
   ]
  },
  {
   "cell_type": "code",
   "execution_count": 3,
   "id": "5bdd916b",
   "metadata": {},
   "outputs": [],
   "source": [
    "scene.save(\"Output.glb\")"
   ]
  },
  {
   "cell_type": "code",
   "execution_count": null,
   "id": "536aa267",
   "metadata": {},
   "outputs": [],
   "source": []
  }
 ],
 "metadata": {
  "kernelspec": {
   "display_name": "Python 3 (ipykernel)",
   "language": "python",
   "name": "python3"
  },
  "language_info": {
   "codemirror_mode": {
    "name": "ipython",
    "version": 3
   },
   "file_extension": ".py",
   "mimetype": "text/x-python",
   "name": "python",
   "nbconvert_exporter": "python",
   "pygments_lexer": "ipython3",
   "version": "3.9.13"
  }
 },
 "nbformat": 4,
 "nbformat_minor": 5
}
